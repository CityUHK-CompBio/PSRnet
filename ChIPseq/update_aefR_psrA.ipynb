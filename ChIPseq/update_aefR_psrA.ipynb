{
 "cells": [
  {
   "cell_type": "code",
   "execution_count": null,
   "metadata": {},
   "outputs": [],
   "source": [
    "# delete psrA and aefR from batch2 (201908)"
   ]
  },
  {
   "cell_type": "code",
   "execution_count": 7,
   "metadata": {},
   "outputs": [],
   "source": [
    "chip_201906 = ['psrA_1','psrA_2',\n",
    "              'aefR_1','aefR_2',]\n",
    "\n",
    "ip_201906 = ['PsrA-Flag1','PsrA-Flag2',\n",
    "             'AefR-Flag1','AefR-Flag2',]\n",
    "\n",
    "ck_201906 = ['pHM1-Flag-1','pHM1-Flag-2', #\n",
    "             'pHM1-Flag-1','pHM1-Flag-2',]\n",
    "\n",
    "sample_201906 = ip_201906 + ck_201906\n",
    "sample_201906 = list(set(sample_201906))\n",
    "\n",
    "gene = ['aefR','psrA']"
   ]
  },
  {
   "cell_type": "code",
   "execution_count": 3,
   "metadata": {},
   "outputs": [
    {
     "name": "stdout",
     "output_type": "stream",
     "text": [
      "cp ~/project/PSVnet/V4_chipPE_notmerge/chip_201906/03_bowtie/AefR-Flag1.bam 03_bowtie\n",
      "cp ~/project/PSVnet/V4_chipPE_notmerge/chip_201906/03_sort/AefR-Flag1* 03_sort\n",
      "cp ~/project/PSVnet/V4_chipPE_notmerge/chip_201906/03_bw/AefR-Flag1* 03_bw\n",
      "cp ~/project/PSVnet/V4_chipPE_notmerge/chip_201906/03_bowtie/AefR-Flag2.bam 03_bowtie\n",
      "cp ~/project/PSVnet/V4_chipPE_notmerge/chip_201906/03_sort/AefR-Flag2* 03_sort\n",
      "cp ~/project/PSVnet/V4_chipPE_notmerge/chip_201906/03_bw/AefR-Flag2* 03_bw\n",
      "cp ~/project/PSVnet/V4_chipPE_notmerge/chip_201906/03_bowtie/pHM1-Flag-1.bam 03_bowtie\n",
      "cp ~/project/PSVnet/V4_chipPE_notmerge/chip_201906/03_sort/pHM1-Flag-1* 03_sort\n",
      "cp ~/project/PSVnet/V4_chipPE_notmerge/chip_201906/03_bw/pHM1-Flag-1* 03_bw\n",
      "cp ~/project/PSVnet/V4_chipPE_notmerge/chip_201906/03_bowtie/PsrA-Flag1.bam 03_bowtie\n",
      "cp ~/project/PSVnet/V4_chipPE_notmerge/chip_201906/03_sort/PsrA-Flag1* 03_sort\n",
      "cp ~/project/PSVnet/V4_chipPE_notmerge/chip_201906/03_bw/PsrA-Flag1* 03_bw\n",
      "cp ~/project/PSVnet/V4_chipPE_notmerge/chip_201906/03_bowtie/pHM1-Flag-2.bam 03_bowtie\n",
      "cp ~/project/PSVnet/V4_chipPE_notmerge/chip_201906/03_sort/pHM1-Flag-2* 03_sort\n",
      "cp ~/project/PSVnet/V4_chipPE_notmerge/chip_201906/03_bw/pHM1-Flag-2* 03_bw\n",
      "cp ~/project/PSVnet/V4_chipPE_notmerge/chip_201906/03_bowtie/PsrA-Flag2.bam 03_bowtie\n",
      "cp ~/project/PSVnet/V4_chipPE_notmerge/chip_201906/03_sort/PsrA-Flag2* 03_sort\n",
      "cp ~/project/PSVnet/V4_chipPE_notmerge/chip_201906/03_bw/PsrA-Flag2* 03_bw\n",
      "\n"
     ]
    }
   ],
   "source": [
    "# cd chip\n",
    "# cp bowtie sort and bw file\n",
    "\n",
    "for i in sample_201906:\n",
    "    print('cp ~/project/PSVnet/V4_chipPE_notmerge/chip_201906/03_bowtie/%s.bam 03_bowtie' %(i))\n",
    "    print('cp ~/project/PSVnet/V4_chipPE_notmerge/chip_201906/03_sort/%s* 03_sort' %(i))\n",
    "    print('cp ~/project/PSVnet/V4_chipPE_notmerge/chip_201906/03_bw/%s* 03_bw' %(i))\n",
    "print()   \n"
   ]
  },
  {
   "cell_type": "code",
   "execution_count": 4,
   "metadata": {},
   "outputs": [
    {
     "name": "stdout",
     "output_type": "stream",
     "text": [
      "cp -r ~/project/PSVnet/V4_chipPE_notmerge/chip_201906/04_macs/psrA_1 04_macs\n",
      "cp -r ~/project/PSVnet/V4_chipPE_notmerge/chip_201906/04_macs/psrA_2 04_macs\n",
      "cp -r ~/project/PSVnet/V4_chipPE_notmerge/chip_201906/04_macs/aefR_1 04_macs\n",
      "cp -r ~/project/PSVnet/V4_chipPE_notmerge/chip_201906/04_macs/aefR_2 04_macs\n",
      "\n"
     ]
    }
   ],
   "source": [
    "# cp macs2 file\n",
    "\n",
    "for i in chip_201906:\n",
    "    print('cp -r ~/project/PSVnet/V4_chipPE_notmerge/chip_201906/04_macs/%s 04_macs' %(i))\n",
    "print()   "
   ]
  },
  {
   "cell_type": "code",
   "execution_count": 5,
   "metadata": {},
   "outputs": [
    {
     "name": "stdout",
     "output_type": "stream",
     "text": [
      "mkdir 04_macs/psrA_1\n",
      "macs2 callpeak -t 03_bowtie/PsrA-Flag1.bam -c 03_bowtie/pHM1-Flag-1.bam -g 6e6 -f BAMPE -q 0.01 -B -n psrA_1 --outdir 04_macs/psrA_1\n",
      "mkdir 04_macs/psrA_2\n",
      "macs2 callpeak -t 03_bowtie/PsrA-Flag2.bam -c 03_bowtie/pHM1-Flag-2.bam -g 6e6 -f BAMPE -q 0.01 -B -n psrA_2 --outdir 04_macs/psrA_2\n",
      "mkdir 04_macs/aefR_1\n",
      "macs2 callpeak -t 03_bowtie/AefR-Flag1.bam -c 03_bowtie/pHM1-Flag-1.bam -g 6e6 -f BAMPE -q 0.01 -B -n aefR_1 --outdir 04_macs/aefR_1\n",
      "mkdir 04_macs/aefR_2\n",
      "macs2 callpeak -t 03_bowtie/AefR-Flag2.bam -c 03_bowtie/pHM1-Flag-2.bam -g 6e6 -f BAMPE -q 0.01 -B -n aefR_2 --outdir 04_macs/aefR_2\n"
     ]
    }
   ],
   "source": [
    "# call peak\n",
    "\n",
    "# pair end \n",
    "for i in range(0,len(chip_201906)):\n",
    "    print('mkdir 04_macs/%s'%chip_201906[i])\n",
    "    print('macs2 callpeak -t 03_bowtie/%s.bam -c 03_bowtie/%s.bam \\\n",
    "-g 6e6 -f BAMPE -q 0.01 -B -n %s --outdir 04_macs/%s'%(ip_201906[i],ck_201906[i],chip_201906[i],chip_201906[i]))\n"
   ]
  },
  {
   "cell_type": "code",
   "execution_count": 8,
   "metadata": {},
   "outputs": [
    {
     "name": "stdout",
     "output_type": "stream",
     "text": [
      "bedtools intersect -a 04_macs/aefR_1/aefR_1_peaks.narrowPeak -b 04_macs/aefR_2/aefR_2_peaks.narrowPeak -wo > 04_bedtools/aefR.overlaps.bed\n",
      "bedtools intersect -a 04_macs/psrA_1/psrA_1_peaks.narrowPeak -b 04_macs/psrA_2/psrA_2_peaks.narrowPeak -wo > 04_bedtools/psrA.overlaps.bed\n"
     ]
    }
   ],
   "source": [
    "# bedtools\n",
    "\n",
    "for i in gene:\n",
    "    print('bedtools intersect -a 04_macs/%s_1/%s_1_peaks.narrowPeak -b 04_macs/%s_2/%s_2_peaks.narrowPeak \\\n",
    "-wo > 04_bedtools/%s.overlaps.bed'%(i,i,i,i,i))\n",
    "        "
   ]
  },
  {
   "cell_type": "code",
   "execution_count": 9,
   "metadata": {},
   "outputs": [
    {
     "name": "stdout",
     "output_type": "stream",
     "text": [
      "cut -d$'\\t' -f1-10 04_bedtools/aefR.overlaps.bed > 04_bedtools/aefR_1.overlap.narrowPeak\n",
      "cut -d$'\\t' -f11-20 04_bedtools/aefR.overlaps.bed > 04_bedtools/aefR_2.overlap.narrowPeak\n",
      "cut -d$'\\t' -f1-10 04_bedtools/psrA.overlaps.bed > 04_bedtools/psrA_1.overlap.narrowPeak\n",
      "cut -d$'\\t' -f11-20 04_bedtools/psrA.overlaps.bed > 04_bedtools/psrA_2.overlap.narrowPeak\n"
     ]
    }
   ],
   "source": [
    "for i in gene:\n",
    "    print('cut -d$\\'\\\\t\\' -f1-10 04_bedtools/%s.overlaps.bed > 04_bedtools/%s_1.overlap.narrowPeak'%(i,i))\n",
    "    print('cut -d$\\'\\\\t\\' -f11-20 04_bedtools/%s.overlaps.bed > 04_bedtools/%s_2.overlap.narrowPeak'%(i,i))"
   ]
  },
  {
   "cell_type": "code",
   "execution_count": null,
   "metadata": {},
   "outputs": [],
   "source": []
  },
  {
   "cell_type": "code",
   "execution_count": null,
   "metadata": {},
   "outputs": [],
   "source": []
  }
 ],
 "metadata": {
  "kernelspec": {
   "display_name": "Python 3",
   "language": "python",
   "name": "python3"
  },
  "language_info": {
   "codemirror_mode": {
    "name": "ipython",
    "version": 3
   },
   "file_extension": ".py",
   "mimetype": "text/x-python",
   "name": "python",
   "nbconvert_exporter": "python",
   "pygments_lexer": "ipython3",
   "version": "3.6.8"
  }
 },
 "nbformat": 4,
 "nbformat_minor": 2
}
