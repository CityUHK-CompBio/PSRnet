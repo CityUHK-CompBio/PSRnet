{
 "cells": [
  {
   "cell_type": "code",
   "execution_count": 37,
   "metadata": {},
   "outputs": [],
   "source": [
    "\n",
    "thread = 20\n",
    "\n",
    "sample_pair = ['aefR_1','aefR_2',\n",
    "               'algU_1','algU_2',\n",
    "               'cvsR_1','cvsR_2',\n",
    "               'pilR_1','pilR_2',\n",
    "               'psrA_1','psrA_2',\n",
    "               'rpoN_1','rpoN_2',\n",
    "               'vfr_1','vfr_2']\n",
    "\n",
    "sample_ip = ['AefR-FLAG-1','AefR-FLAG-2',\n",
    "             'AlgU-FLAG-1','AlgU-FLAG-2',\n",
    "             'CvsR-FLAG-1','CvsR-FLAG-2',\n",
    "             'PilR-FLAG-1','PilR-FLAG-2',\n",
    "             'PsrA-FLAG-1','PsrA-FLAG-2',\n",
    "             'RpoN-FLAG-1','RpoN-FLAG-2',\n",
    "             'Vfr-FLAG-1','Vfr-FLAG-2']\n",
    "\n",
    "sample_ck = ['1448A-pHM1-1','1448A-pHM1-2',\n",
    "             '1448A-pHM1-1','1448A-pHM1-2',\n",
    "             '1448A-pHM1-1','1448A-pHM1-2',\n",
    "             '1448A-pHM1-1','1448A-pHM1-2',\n",
    "             '1448A-pHM1-1','1448A-pHM1-2',\n",
    "             '1448A-pHM1-1','1448A-pHM1-2',\n",
    "             '1448A-pHM1-1','1448A-pHM1-2']\n",
    "\n",
    "sample = sample_ip + sample_ck\n",
    "sample = list(set(sample))\n",
    "\n",
    "gene = ['aefR','algU','cvsR','pilR','psrA','rpoN','vfr']"
   ]
  },
  {
   "cell_type": "code",
   "execution_count": 27,
   "metadata": {},
   "outputs": [
    {
     "name": "stdout",
     "output_type": "stream",
     "text": [
      "mkdir 01_fastqc\n",
      "mkdir 02_trim\n",
      "mkdir 03_bowtie\n",
      "mkdir 03_sort\n",
      "mkdir 03_bw\n",
      "mkdir 04_macs\n",
      "mkdir 04_idr\n",
      "mkdir 04_anno\n",
      "nohup bash 01_fastqc/01_fastqc.sh > 01_fastqc/01_fastqc.log 2>&1 &\n",
      "nohup bash 02_trim/02_trim.sh > 02_trim/02_trim.log 2>&1 &\n",
      "nohup bash 03_bowtie/03_bowtie.sh > 03_bowtie/03_bowtie.log 2>&1 &\n",
      "nohup bash 03_sort/03_sort.sh > 03_sort/03_sort.log 2>&1 &\n",
      "nohup bash 03_bw/03_bw.sh > 03_bw/03_bw.log 2>&1 &\n",
      "nohup bash 04_macs/04_macs.sh > 04_macs/04_macs.log 2>&1 &\n",
      "nohup bash 04_idr/04_idr.sh > 04_idr/04_idr.log 2>&1 &\n",
      "nohup bash 04_anno/04_anno.sh > 04_anno/04_anno.log 2>&1 &\n"
     ]
    }
   ],
   "source": [
    "# mk main output dir\n",
    "main_dir = ['01_fastqc','02_trim','03_bowtie','03_sort','03_bw',\n",
    "            '04_macs','04_idr','04_anno']\n",
    "    \n",
    "for i in main_dir:\n",
    "    print('mkdir %s'%i)\n",
    "    \n",
    "for i in main_dir:\n",
    "    print('nohup bash %s/%s.sh > %s/%s.log 2>&1 &'%(i,i,i,i))\n",
    "    \n",
    "# nohup bash 04_macs/04_sort.sh > 04_macs/04_sort.log 2>&1 &"
   ]
  },
  {
   "cell_type": "code",
   "execution_count": 15,
   "metadata": {},
   "outputs": [
    {
     "name": "stdout",
     "output_type": "stream",
     "text": [
      "fastqc -f fastq -t 20 -o 01_fastqc 01_rawdata/*.fastq.gz\n",
      "echo '************************************** fastqc finished! **************************************'\n"
     ]
    }
   ],
   "source": [
    "# fastqc\n",
    "\n",
    "with open('01_fastqc/01_fastqc.sh', 'w') as f:\n",
    "    print('fastqc -f fastq -t %s -o 01_fastqc 01_rawdata/*.fastq.gz'%(thread))\n",
    "    f.write('fastqc -f fastq -t %s -o 01_fastqc 01_rawdata/*.fastq.gz\\n'%(thread))\n",
    "\n",
    "    print('echo \\'************************************** fastqc finished! **************************************\\'')\n",
    "    f.write('echo \\'************************************** fastqc finished! **************************************\\'')"
   ]
  },
  {
   "cell_type": "code",
   "execution_count": 28,
   "metadata": {
    "scrolled": true
   },
   "outputs": [
    {
     "name": "stdout",
     "output_type": "stream",
     "text": [
      "mkdir 02_trim/RpoN-FLAG-1\n",
      "trim_galore -q 20 --phred33 --length 36 --fastqc -o 02_trim/RpoN-FLAG-1 --paired -a AGATCGGAAGAGCACACGTCTGAACTCCAGTCA -a2 AGATCGGAAGAGCGTCGTGTAGGGAAAGAGTG 01_rawdata/RpoN-FLAG-1_*R1* 01_rawdata/RpoN-FLAG-1_*R2*\n",
      "mkdir 02_trim/CvsR-FLAG-2\n",
      "trim_galore -q 20 --phred33 --length 36 --fastqc -o 02_trim/CvsR-FLAG-2 --paired -a AGATCGGAAGAGCACACGTCTGAACTCCAGTCA -a2 AGATCGGAAGAGCGTCGTGTAGGGAAAGAGTG 01_rawdata/CvsR-FLAG-2_*R1* 01_rawdata/CvsR-FLAG-2_*R2*\n",
      "mkdir 02_trim/AefR-FLAG-1\n",
      "trim_galore -q 20 --phred33 --length 36 --fastqc -o 02_trim/AefR-FLAG-1 --paired -a AGATCGGAAGAGCACACGTCTGAACTCCAGTCA -a2 AGATCGGAAGAGCGTCGTGTAGGGAAAGAGTG 01_rawdata/AefR-FLAG-1_*R1* 01_rawdata/AefR-FLAG-1_*R2*\n",
      "mkdir 02_trim/AefR-FLAG-2\n",
      "trim_galore -q 20 --phred33 --length 36 --fastqc -o 02_trim/AefR-FLAG-2 --paired -a AGATCGGAAGAGCACACGTCTGAACTCCAGTCA -a2 AGATCGGAAGAGCGTCGTGTAGGGAAAGAGTG 01_rawdata/AefR-FLAG-2_*R1* 01_rawdata/AefR-FLAG-2_*R2*\n",
      "mkdir 02_trim/CvsR-FLAG-1\n",
      "trim_galore -q 20 --phred33 --length 36 --fastqc -o 02_trim/CvsR-FLAG-1 --paired -a AGATCGGAAGAGCACACGTCTGAACTCCAGTCA -a2 AGATCGGAAGAGCGTCGTGTAGGGAAAGAGTG 01_rawdata/CvsR-FLAG-1_*R1* 01_rawdata/CvsR-FLAG-1_*R2*\n",
      "mkdir 02_trim/Vfr-FLAG-1\n",
      "trim_galore -q 20 --phred33 --length 36 --fastqc -o 02_trim/Vfr-FLAG-1 --paired -a AGATCGGAAGAGCACACGTCTGAACTCCAGTCA -a2 AGATCGGAAGAGCGTCGTGTAGGGAAAGAGTG 01_rawdata/Vfr-FLAG-1_*R1* 01_rawdata/Vfr-FLAG-1_*R2*\n",
      "mkdir 02_trim/PsrA-FLAG-1\n",
      "trim_galore -q 20 --phred33 --length 36 --fastqc -o 02_trim/PsrA-FLAG-1 --paired -a AGATCGGAAGAGCACACGTCTGAACTCCAGTCA -a2 AGATCGGAAGAGCGTCGTGTAGGGAAAGAGTG 01_rawdata/PsrA-FLAG-1_*R1* 01_rawdata/PsrA-FLAG-1_*R2*\n",
      "mkdir 02_trim/1448A-pHM1-1\n",
      "trim_galore -q 20 --phred33 --length 36 --fastqc -o 02_trim/1448A-pHM1-1 --paired -a AGATCGGAAGAGCACACGTCTGAACTCCAGTCA -a2 AGATCGGAAGAGCGTCGTGTAGGGAAAGAGTG 01_rawdata/1448A-pHM1-1_*R1* 01_rawdata/1448A-pHM1-1_*R2*\n",
      "mkdir 02_trim/AlgU-FLAG-1\n",
      "trim_galore -q 20 --phred33 --length 36 --fastqc -o 02_trim/AlgU-FLAG-1 --paired -a AGATCGGAAGAGCACACGTCTGAACTCCAGTCA -a2 AGATCGGAAGAGCGTCGTGTAGGGAAAGAGTG 01_rawdata/AlgU-FLAG-1_*R1* 01_rawdata/AlgU-FLAG-1_*R2*\n",
      "mkdir 02_trim/RpoN-FLAG-2\n",
      "trim_galore -q 20 --phred33 --length 36 --fastqc -o 02_trim/RpoN-FLAG-2 --paired -a AGATCGGAAGAGCACACGTCTGAACTCCAGTCA -a2 AGATCGGAAGAGCGTCGTGTAGGGAAAGAGTG 01_rawdata/RpoN-FLAG-2_*R1* 01_rawdata/RpoN-FLAG-2_*R2*\n",
      "mkdir 02_trim/1448A-pHM1-2\n",
      "trim_galore -q 20 --phred33 --length 36 --fastqc -o 02_trim/1448A-pHM1-2 --paired -a AGATCGGAAGAGCACACGTCTGAACTCCAGTCA -a2 AGATCGGAAGAGCGTCGTGTAGGGAAAGAGTG 01_rawdata/1448A-pHM1-2_*R1* 01_rawdata/1448A-pHM1-2_*R2*\n",
      "mkdir 02_trim/PsrA-FLAG-2\n",
      "trim_galore -q 20 --phred33 --length 36 --fastqc -o 02_trim/PsrA-FLAG-2 --paired -a AGATCGGAAGAGCACACGTCTGAACTCCAGTCA -a2 AGATCGGAAGAGCGTCGTGTAGGGAAAGAGTG 01_rawdata/PsrA-FLAG-2_*R1* 01_rawdata/PsrA-FLAG-2_*R2*\n",
      "mkdir 02_trim/PilR-FLAG-1\n",
      "trim_galore -q 20 --phred33 --length 36 --fastqc -o 02_trim/PilR-FLAG-1 --paired -a AGATCGGAAGAGCACACGTCTGAACTCCAGTCA -a2 AGATCGGAAGAGCGTCGTGTAGGGAAAGAGTG 01_rawdata/PilR-FLAG-1_*R1* 01_rawdata/PilR-FLAG-1_*R2*\n",
      "mkdir 02_trim/Vfr-FLAG-2\n",
      "trim_galore -q 20 --phred33 --length 36 --fastqc -o 02_trim/Vfr-FLAG-2 --paired -a AGATCGGAAGAGCACACGTCTGAACTCCAGTCA -a2 AGATCGGAAGAGCGTCGTGTAGGGAAAGAGTG 01_rawdata/Vfr-FLAG-2_*R1* 01_rawdata/Vfr-FLAG-2_*R2*\n",
      "mkdir 02_trim/PilR-FLAG-2\n",
      "trim_galore -q 20 --phred33 --length 36 --fastqc -o 02_trim/PilR-FLAG-2 --paired -a AGATCGGAAGAGCACACGTCTGAACTCCAGTCA -a2 AGATCGGAAGAGCGTCGTGTAGGGAAAGAGTG 01_rawdata/PilR-FLAG-2_*R1* 01_rawdata/PilR-FLAG-2_*R2*\n",
      "mkdir 02_trim/AlgU-FLAG-2\n",
      "trim_galore -q 20 --phred33 --length 36 --fastqc -o 02_trim/AlgU-FLAG-2 --paired -a AGATCGGAAGAGCACACGTCTGAACTCCAGTCA -a2 AGATCGGAAGAGCGTCGTGTAGGGAAAGAGTG 01_rawdata/AlgU-FLAG-2_*R1* 01_rawdata/AlgU-FLAG-2_*R2*\n",
      "echo '************************************** trim finished! **************************************'\n"
     ]
    }
   ],
   "source": [
    "# qc trim\n",
    "\n",
    "with open('02_trim/02_trim.sh', 'w') as f:\n",
    "    for i in sample:\n",
    "        print('mkdir 02_trim/%s'%i)\n",
    "        f.write('mkdir 02_trim/%s\\n'%i)\n",
    "        print('trim_galore -q 20 --phred33 --length 36 --fastqc -o 02_trim/%s --paired \\\n",
    "-a AGATCGGAAGAGCACACGTCTGAACTCCAGTCA -a2 AGATCGGAAGAGCGTCGTGTAGGGAAAGAGTG \\\n",
    "01_rawdata/%s_*R1* 01_rawdata/%s_*R2*'%(i,i,i))\n",
    "        f.write('trim_galore -q 20 --phred33 --length 36 --fastqc -o 02_trim/%s --paired \\\n",
    "-a AGATCGGAAGAGCACACGTCTGAACTCCAGTCA -a2 AGATCGGAAGAGCGTCGTGTAGGGAAAGAGTG \\\n",
    "01_rawdata/%s_*R1* 01_rawdata/%s_*R2*\\n'%(i,i,i))\n",
    "    print('echo \\'************************************** trim finished! **************************************\\'')\n",
    "    f.write('echo \\'************************************** trim finished! **************************************\\'')"
   ]
  },
  {
   "cell_type": "code",
   "execution_count": 39,
   "metadata": {
    "scrolled": true
   },
   "outputs": [
    {
     "name": "stdout",
     "output_type": "stream",
     "text": [
      "bowtie2 -t -k 1 -N 1 -p 20 -x ~/data/bowtie2_index/PS_1448A_gb_CP000058.1/PS_1448A -1 02_trim/RpoN-FLAG-1/RpoN-FLAG-1_*R1*.fq.gz -2 02_trim/RpoN-FLAG-1/RpoN-FLAG-1_*R2*.fq.gz -S 03_bowtie/RpoN-FLAG-1.sam\n",
      "samtools view -q 255 -bS 03_bowtie/RpoN-FLAG-1.sam > 03_bowtie/RpoN-FLAG-1.bam\n",
      "mv 03_bowtie/RpoN-FLAG-1.sam ~/trash\n",
      "bowtie2 -t -k 1 -N 1 -p 20 -x ~/data/bowtie2_index/PS_1448A_gb_CP000058.1/PS_1448A -1 02_trim/CvsR-FLAG-2/CvsR-FLAG-2_*R1*.fq.gz -2 02_trim/CvsR-FLAG-2/CvsR-FLAG-2_*R2*.fq.gz -S 03_bowtie/CvsR-FLAG-2.sam\n",
      "samtools view -q 255 -bS 03_bowtie/CvsR-FLAG-2.sam > 03_bowtie/CvsR-FLAG-2.bam\n",
      "mv 03_bowtie/CvsR-FLAG-2.sam ~/trash\n",
      "bowtie2 -t -k 1 -N 1 -p 20 -x ~/data/bowtie2_index/PS_1448A_gb_CP000058.1/PS_1448A -1 02_trim/AefR-FLAG-1/AefR-FLAG-1_*R1*.fq.gz -2 02_trim/AefR-FLAG-1/AefR-FLAG-1_*R2*.fq.gz -S 03_bowtie/AefR-FLAG-1.sam\n",
      "samtools view -q 255 -bS 03_bowtie/AefR-FLAG-1.sam > 03_bowtie/AefR-FLAG-1.bam\n",
      "mv 03_bowtie/AefR-FLAG-1.sam ~/trash\n",
      "bowtie2 -t -k 1 -N 1 -p 20 -x ~/data/bowtie2_index/PS_1448A_gb_CP000058.1/PS_1448A -1 02_trim/AefR-FLAG-2/AefR-FLAG-2_*R1*.fq.gz -2 02_trim/AefR-FLAG-2/AefR-FLAG-2_*R2*.fq.gz -S 03_bowtie/AefR-FLAG-2.sam\n",
      "samtools view -q 255 -bS 03_bowtie/AefR-FLAG-2.sam > 03_bowtie/AefR-FLAG-2.bam\n",
      "mv 03_bowtie/AefR-FLAG-2.sam ~/trash\n",
      "bowtie2 -t -k 1 -N 1 -p 20 -x ~/data/bowtie2_index/PS_1448A_gb_CP000058.1/PS_1448A -1 02_trim/CvsR-FLAG-1/CvsR-FLAG-1_*R1*.fq.gz -2 02_trim/CvsR-FLAG-1/CvsR-FLAG-1_*R2*.fq.gz -S 03_bowtie/CvsR-FLAG-1.sam\n",
      "samtools view -q 255 -bS 03_bowtie/CvsR-FLAG-1.sam > 03_bowtie/CvsR-FLAG-1.bam\n",
      "mv 03_bowtie/CvsR-FLAG-1.sam ~/trash\n",
      "bowtie2 -t -k 1 -N 1 -p 20 -x ~/data/bowtie2_index/PS_1448A_gb_CP000058.1/PS_1448A -1 02_trim/Vfr-FLAG-1/Vfr-FLAG-1_*R1*.fq.gz -2 02_trim/Vfr-FLAG-1/Vfr-FLAG-1_*R2*.fq.gz -S 03_bowtie/Vfr-FLAG-1.sam\n",
      "samtools view -q 255 -bS 03_bowtie/Vfr-FLAG-1.sam > 03_bowtie/Vfr-FLAG-1.bam\n",
      "mv 03_bowtie/Vfr-FLAG-1.sam ~/trash\n",
      "bowtie2 -t -k 1 -N 1 -p 20 -x ~/data/bowtie2_index/PS_1448A_gb_CP000058.1/PS_1448A -1 02_trim/PsrA-FLAG-1/PsrA-FLAG-1_*R1*.fq.gz -2 02_trim/PsrA-FLAG-1/PsrA-FLAG-1_*R2*.fq.gz -S 03_bowtie/PsrA-FLAG-1.sam\n",
      "samtools view -q 255 -bS 03_bowtie/PsrA-FLAG-1.sam > 03_bowtie/PsrA-FLAG-1.bam\n",
      "mv 03_bowtie/PsrA-FLAG-1.sam ~/trash\n",
      "bowtie2 -t -k 1 -N 1 -p 20 -x ~/data/bowtie2_index/PS_1448A_gb_CP000058.1/PS_1448A -1 02_trim/1448A-pHM1-1/1448A-pHM1-1_*R1*.fq.gz -2 02_trim/1448A-pHM1-1/1448A-pHM1-1_*R2*.fq.gz -S 03_bowtie/1448A-pHM1-1.sam\n",
      "samtools view -q 255 -bS 03_bowtie/1448A-pHM1-1.sam > 03_bowtie/1448A-pHM1-1.bam\n",
      "mv 03_bowtie/1448A-pHM1-1.sam ~/trash\n",
      "bowtie2 -t -k 1 -N 1 -p 20 -x ~/data/bowtie2_index/PS_1448A_gb_CP000058.1/PS_1448A -1 02_trim/AlgU-FLAG-1/AlgU-FLAG-1_*R1*.fq.gz -2 02_trim/AlgU-FLAG-1/AlgU-FLAG-1_*R2*.fq.gz -S 03_bowtie/AlgU-FLAG-1.sam\n",
      "samtools view -q 255 -bS 03_bowtie/AlgU-FLAG-1.sam > 03_bowtie/AlgU-FLAG-1.bam\n",
      "mv 03_bowtie/AlgU-FLAG-1.sam ~/trash\n",
      "bowtie2 -t -k 1 -N 1 -p 20 -x ~/data/bowtie2_index/PS_1448A_gb_CP000058.1/PS_1448A -1 02_trim/RpoN-FLAG-2/RpoN-FLAG-2_*R1*.fq.gz -2 02_trim/RpoN-FLAG-2/RpoN-FLAG-2_*R2*.fq.gz -S 03_bowtie/RpoN-FLAG-2.sam\n",
      "samtools view -q 255 -bS 03_bowtie/RpoN-FLAG-2.sam > 03_bowtie/RpoN-FLAG-2.bam\n",
      "mv 03_bowtie/RpoN-FLAG-2.sam ~/trash\n",
      "bowtie2 -t -k 1 -N 1 -p 20 -x ~/data/bowtie2_index/PS_1448A_gb_CP000058.1/PS_1448A -1 02_trim/1448A-pHM1-2/1448A-pHM1-2_*R1*.fq.gz -2 02_trim/1448A-pHM1-2/1448A-pHM1-2_*R2*.fq.gz -S 03_bowtie/1448A-pHM1-2.sam\n",
      "samtools view -q 255 -bS 03_bowtie/1448A-pHM1-2.sam > 03_bowtie/1448A-pHM1-2.bam\n",
      "mv 03_bowtie/1448A-pHM1-2.sam ~/trash\n",
      "bowtie2 -t -k 1 -N 1 -p 20 -x ~/data/bowtie2_index/PS_1448A_gb_CP000058.1/PS_1448A -1 02_trim/PsrA-FLAG-2/PsrA-FLAG-2_*R1*.fq.gz -2 02_trim/PsrA-FLAG-2/PsrA-FLAG-2_*R2*.fq.gz -S 03_bowtie/PsrA-FLAG-2.sam\n",
      "samtools view -q 255 -bS 03_bowtie/PsrA-FLAG-2.sam > 03_bowtie/PsrA-FLAG-2.bam\n",
      "mv 03_bowtie/PsrA-FLAG-2.sam ~/trash\n",
      "bowtie2 -t -k 1 -N 1 -p 20 -x ~/data/bowtie2_index/PS_1448A_gb_CP000058.1/PS_1448A -1 02_trim/PilR-FLAG-1/PilR-FLAG-1_*R1*.fq.gz -2 02_trim/PilR-FLAG-1/PilR-FLAG-1_*R2*.fq.gz -S 03_bowtie/PilR-FLAG-1.sam\n",
      "samtools view -q 255 -bS 03_bowtie/PilR-FLAG-1.sam > 03_bowtie/PilR-FLAG-1.bam\n",
      "mv 03_bowtie/PilR-FLAG-1.sam ~/trash\n",
      "bowtie2 -t -k 1 -N 1 -p 20 -x ~/data/bowtie2_index/PS_1448A_gb_CP000058.1/PS_1448A -1 02_trim/Vfr-FLAG-2/Vfr-FLAG-2_*R1*.fq.gz -2 02_trim/Vfr-FLAG-2/Vfr-FLAG-2_*R2*.fq.gz -S 03_bowtie/Vfr-FLAG-2.sam\n",
      "samtools view -q 255 -bS 03_bowtie/Vfr-FLAG-2.sam > 03_bowtie/Vfr-FLAG-2.bam\n",
      "mv 03_bowtie/Vfr-FLAG-2.sam ~/trash\n",
      "bowtie2 -t -k 1 -N 1 -p 20 -x ~/data/bowtie2_index/PS_1448A_gb_CP000058.1/PS_1448A -1 02_trim/PilR-FLAG-2/PilR-FLAG-2_*R1*.fq.gz -2 02_trim/PilR-FLAG-2/PilR-FLAG-2_*R2*.fq.gz -S 03_bowtie/PilR-FLAG-2.sam\n",
      "samtools view -q 255 -bS 03_bowtie/PilR-FLAG-2.sam > 03_bowtie/PilR-FLAG-2.bam\n",
      "mv 03_bowtie/PilR-FLAG-2.sam ~/trash\n",
      "bowtie2 -t -k 1 -N 1 -p 20 -x ~/data/bowtie2_index/PS_1448A_gb_CP000058.1/PS_1448A -1 02_trim/AlgU-FLAG-2/AlgU-FLAG-2_*R1*.fq.gz -2 02_trim/AlgU-FLAG-2/AlgU-FLAG-2_*R2*.fq.gz -S 03_bowtie/AlgU-FLAG-2.sam\n",
      "samtools view -q 255 -bS 03_bowtie/AlgU-FLAG-2.sam > 03_bowtie/AlgU-FLAG-2.bam\n",
      "mv 03_bowtie/AlgU-FLAG-2.sam ~/trash\n",
      "echo '************************************** mapping finished! **************************************'\n"
     ]
    }
   ],
   "source": [
    "# mapping\n",
    "\n",
    "with open('03_bowtie/03_bowtie.sh', 'w') as f:\n",
    "    for i in sample:\n",
    "        f.write('echo \\'sample name: %s\\'\\n'%i)\n",
    "        print('bowtie2 -t -k 1 -N 1 -p %s -x ~/data/bowtie2_index/PS_1448A_gb_CP000058.1/PS_1448A \\\n",
    "-1 02_trim/%s/%s_*R1*.fq.gz -2 02_trim/%s/%s_*R2*.fq.gz -S 03_bowtie/%s.sam'\n",
    "              %(thread,i,i,i,i,i))\n",
    "        f.write('bowtie2 -t -k 1 -N 1 -p %s -x ~/data/bowtie2_index/PS_1448A_gb_CP000058.1/PS_1448A \\\n",
    "-1 02_trim/%s/%s_*R1*.fq.gz -2 02_trim/%s/%s_*R2*.fq.gz -S 03_bowtie/%s.sam\\n'\n",
    "              %(thread,i,i,i,i,i))\n",
    "        print('samtools view -q 255 -bS 03_bowtie/%s.sam > 03_bowtie/%s.bam'%(i,i))\n",
    "        f.write('samtools view -q 255 -bS 03_bowtie/%s.sam > 03_bowtie/%s.bam\\n'%(i,i))\n",
    "        print('mv 03_bowtie/%s.sam ~/trash'%i)\n",
    "        f.write('mv 03_bowtie/%s.sam ~/trash\\n'%i)\n",
    "\n",
    "    print('echo \\'************************************** mapping finished! **************************************\\'')\n",
    "    f.write('echo \\'************************************** mapping finished! **************************************\\'')"
   ]
  },
  {
   "cell_type": "code",
   "execution_count": 30,
   "metadata": {
    "scrolled": true
   },
   "outputs": [
    {
     "name": "stdout",
     "output_type": "stream",
     "text": [
      "samtools sort 03_bowtie/RpoN-FLAG-1.bam -o 03_sort/RpoN-FLAG-1.sorted.bam\n",
      "samtools index 03_sort/RpoN-FLAG-1.sorted.bam\n",
      "samtools sort 03_bowtie/CvsR-FLAG-2.bam -o 03_sort/CvsR-FLAG-2.sorted.bam\n",
      "samtools index 03_sort/CvsR-FLAG-2.sorted.bam\n",
      "samtools sort 03_bowtie/AefR-FLAG-1.bam -o 03_sort/AefR-FLAG-1.sorted.bam\n",
      "samtools index 03_sort/AefR-FLAG-1.sorted.bam\n",
      "samtools sort 03_bowtie/AefR-FLAG-2.bam -o 03_sort/AefR-FLAG-2.sorted.bam\n",
      "samtools index 03_sort/AefR-FLAG-2.sorted.bam\n",
      "samtools sort 03_bowtie/CvsR-FLAG-1.bam -o 03_sort/CvsR-FLAG-1.sorted.bam\n",
      "samtools index 03_sort/CvsR-FLAG-1.sorted.bam\n",
      "samtools sort 03_bowtie/Vfr-FLAG-1.bam -o 03_sort/Vfr-FLAG-1.sorted.bam\n",
      "samtools index 03_sort/Vfr-FLAG-1.sorted.bam\n",
      "samtools sort 03_bowtie/PsrA-FLAG-1.bam -o 03_sort/PsrA-FLAG-1.sorted.bam\n",
      "samtools index 03_sort/PsrA-FLAG-1.sorted.bam\n",
      "samtools sort 03_bowtie/1448A-pHM1-1.bam -o 03_sort/1448A-pHM1-1.sorted.bam\n",
      "samtools index 03_sort/1448A-pHM1-1.sorted.bam\n",
      "samtools sort 03_bowtie/AlgU-FLAG-1.bam -o 03_sort/AlgU-FLAG-1.sorted.bam\n",
      "samtools index 03_sort/AlgU-FLAG-1.sorted.bam\n",
      "samtools sort 03_bowtie/RpoN-FLAG-2.bam -o 03_sort/RpoN-FLAG-2.sorted.bam\n",
      "samtools index 03_sort/RpoN-FLAG-2.sorted.bam\n",
      "samtools sort 03_bowtie/1448A-pHM1-2.bam -o 03_sort/1448A-pHM1-2.sorted.bam\n",
      "samtools index 03_sort/1448A-pHM1-2.sorted.bam\n",
      "samtools sort 03_bowtie/PsrA-FLAG-2.bam -o 03_sort/PsrA-FLAG-2.sorted.bam\n",
      "samtools index 03_sort/PsrA-FLAG-2.sorted.bam\n",
      "samtools sort 03_bowtie/PilR-FLAG-1.bam -o 03_sort/PilR-FLAG-1.sorted.bam\n",
      "samtools index 03_sort/PilR-FLAG-1.sorted.bam\n",
      "samtools sort 03_bowtie/Vfr-FLAG-2.bam -o 03_sort/Vfr-FLAG-2.sorted.bam\n",
      "samtools index 03_sort/Vfr-FLAG-2.sorted.bam\n",
      "samtools sort 03_bowtie/PilR-FLAG-2.bam -o 03_sort/PilR-FLAG-2.sorted.bam\n",
      "samtools index 03_sort/PilR-FLAG-2.sorted.bam\n",
      "samtools sort 03_bowtie/AlgU-FLAG-2.bam -o 03_sort/AlgU-FLAG-2.sorted.bam\n",
      "samtools index 03_sort/AlgU-FLAG-2.sorted.bam\n",
      "\n",
      "echo '************************************** bam sorting finished! **************************************'\n"
     ]
    }
   ],
   "source": [
    "# sort\n",
    "\n",
    "with open('03_sort/03_sort.sh', 'w') as f:\n",
    "    for i in sample:\n",
    "        print('samtools sort 03_bowtie/%s.bam -o 03_sort/%s.sorted.bam'%(i,i))\n",
    "        f.write('samtools sort 03_bowtie/%s.bam -o 03_sort/%s.sorted.bam\\n'%(i,i))\n",
    "        print('samtools index 03_sort/%s.sorted.bam'%i)\n",
    "        f.write('samtools index 03_sort/%s.sorted.bam\\n'%i)\n",
    "    print('')  \n",
    "\n",
    "    print('echo \\'************************************** bam sorting finished! **************************************\\'')\n",
    "    f.write('echo \\'************************************** bam sorting finished! **************************************\\'')"
   ]
  },
  {
   "cell_type": "code",
   "execution_count": 31,
   "metadata": {
    "scrolled": true
   },
   "outputs": [
    {
     "name": "stdout",
     "output_type": "stream",
     "text": [
      "bamCoverage --bam 03_sort/RpoN-FLAG-1.sorted.bam -o 03_bw/RpoN-FLAG-1.bw -bs 10 --smoothLength 50 --normalizeUsing RPKM --effectiveGenomeSize 6000000\n",
      "bamCoverage --bam 03_sort/CvsR-FLAG-2.sorted.bam -o 03_bw/CvsR-FLAG-2.bw -bs 10 --smoothLength 50 --normalizeUsing RPKM --effectiveGenomeSize 6000000\n",
      "bamCoverage --bam 03_sort/AefR-FLAG-1.sorted.bam -o 03_bw/AefR-FLAG-1.bw -bs 10 --smoothLength 50 --normalizeUsing RPKM --effectiveGenomeSize 6000000\n",
      "bamCoverage --bam 03_sort/AefR-FLAG-2.sorted.bam -o 03_bw/AefR-FLAG-2.bw -bs 10 --smoothLength 50 --normalizeUsing RPKM --effectiveGenomeSize 6000000\n",
      "bamCoverage --bam 03_sort/CvsR-FLAG-1.sorted.bam -o 03_bw/CvsR-FLAG-1.bw -bs 10 --smoothLength 50 --normalizeUsing RPKM --effectiveGenomeSize 6000000\n",
      "bamCoverage --bam 03_sort/Vfr-FLAG-1.sorted.bam -o 03_bw/Vfr-FLAG-1.bw -bs 10 --smoothLength 50 --normalizeUsing RPKM --effectiveGenomeSize 6000000\n",
      "bamCoverage --bam 03_sort/PsrA-FLAG-1.sorted.bam -o 03_bw/PsrA-FLAG-1.bw -bs 10 --smoothLength 50 --normalizeUsing RPKM --effectiveGenomeSize 6000000\n",
      "bamCoverage --bam 03_sort/1448A-pHM1-1.sorted.bam -o 03_bw/1448A-pHM1-1.bw -bs 10 --smoothLength 50 --normalizeUsing RPKM --effectiveGenomeSize 6000000\n",
      "bamCoverage --bam 03_sort/AlgU-FLAG-1.sorted.bam -o 03_bw/AlgU-FLAG-1.bw -bs 10 --smoothLength 50 --normalizeUsing RPKM --effectiveGenomeSize 6000000\n",
      "bamCoverage --bam 03_sort/RpoN-FLAG-2.sorted.bam -o 03_bw/RpoN-FLAG-2.bw -bs 10 --smoothLength 50 --normalizeUsing RPKM --effectiveGenomeSize 6000000\n",
      "bamCoverage --bam 03_sort/1448A-pHM1-2.sorted.bam -o 03_bw/1448A-pHM1-2.bw -bs 10 --smoothLength 50 --normalizeUsing RPKM --effectiveGenomeSize 6000000\n",
      "bamCoverage --bam 03_sort/PsrA-FLAG-2.sorted.bam -o 03_bw/PsrA-FLAG-2.bw -bs 10 --smoothLength 50 --normalizeUsing RPKM --effectiveGenomeSize 6000000\n",
      "bamCoverage --bam 03_sort/PilR-FLAG-1.sorted.bam -o 03_bw/PilR-FLAG-1.bw -bs 10 --smoothLength 50 --normalizeUsing RPKM --effectiveGenomeSize 6000000\n",
      "bamCoverage --bam 03_sort/Vfr-FLAG-2.sorted.bam -o 03_bw/Vfr-FLAG-2.bw -bs 10 --smoothLength 50 --normalizeUsing RPKM --effectiveGenomeSize 6000000\n",
      "bamCoverage --bam 03_sort/PilR-FLAG-2.sorted.bam -o 03_bw/PilR-FLAG-2.bw -bs 10 --smoothLength 50 --normalizeUsing RPKM --effectiveGenomeSize 6000000\n",
      "bamCoverage --bam 03_sort/AlgU-FLAG-2.sorted.bam -o 03_bw/AlgU-FLAG-2.bw -bs 10 --smoothLength 50 --normalizeUsing RPKM --effectiveGenomeSize 6000000\n",
      "echo '************************************** bam to bigwig finished! **************************************'\n"
     ]
    }
   ],
   "source": [
    "# bam to bigwig\n",
    "\n",
    "with open('03_bw/03_bw.sh', 'w') as f:\n",
    "    for i in range(0,len(sample)):\n",
    "        print('bamCoverage --bam 03_sort/%s.sorted.bam -o 03_bw/%s.bw -bs 10 --smoothLength 50 --normalizeUsing RPKM --effectiveGenomeSize 6000000'\n",
    "              %(sample[i],sample[i]))\n",
    "        f.write('bamCoverage --bam 03_sort/%s.sorted.bam -o 03_bw/%s.bw -bs 10 --smoothLength 50 --normalizeUsing RPKM --effectiveGenomeSize 6000000\\n'\n",
    "              %(sample[i],sample[i]))\n",
    "\n",
    "    print('echo \\'************************************** bam to bigwig finished! **************************************\\'')\n",
    "    f.write('echo \\'************************************** bam to bigwig finished! **************************************\\'')"
   ]
  },
  {
   "cell_type": "code",
   "execution_count": 32,
   "metadata": {
    "scrolled": true
   },
   "outputs": [
    {
     "name": "stdout",
     "output_type": "stream",
     "text": [
      "mkdir 04_macs/aefR_1\n",
      "macs2 callpeak -t 03_bowtie/AefR-FLAG-1.bam -c 03_bowtie/1448A-pHM1-1.bam -g 6e6 -f BAMPE -q 0.05 -B -n aefR_1 --outdir 04_macs/aefR_1\n",
      "mkdir 04_macs/aefR_2\n",
      "macs2 callpeak -t 03_bowtie/AefR-FLAG-2.bam -c 03_bowtie/1448A-pHM1-2.bam -g 6e6 -f BAMPE -q 0.05 -B -n aefR_2 --outdir 04_macs/aefR_2\n",
      "mkdir 04_macs/algU_1\n",
      "macs2 callpeak -t 03_bowtie/AlgU-FLAG-1.bam -c 03_bowtie/1448A-pHM1-1.bam -g 6e6 -f BAMPE -q 0.05 -B -n algU_1 --outdir 04_macs/algU_1\n",
      "mkdir 04_macs/algU_2\n",
      "macs2 callpeak -t 03_bowtie/AlgU-FLAG-2.bam -c 03_bowtie/1448A-pHM1-2.bam -g 6e6 -f BAMPE -q 0.05 -B -n algU_2 --outdir 04_macs/algU_2\n",
      "mkdir 04_macs/cvsR_1\n",
      "macs2 callpeak -t 03_bowtie/CvsR-FLAG-1.bam -c 03_bowtie/1448A-pHM1-1.bam -g 6e6 -f BAMPE -q 0.05 -B -n cvsR_1 --outdir 04_macs/cvsR_1\n",
      "mkdir 04_macs/cvsR_2\n",
      "macs2 callpeak -t 03_bowtie/CvsR-FLAG-2.bam -c 03_bowtie/1448A-pHM1-2.bam -g 6e6 -f BAMPE -q 0.05 -B -n cvsR_2 --outdir 04_macs/cvsR_2\n",
      "mkdir 04_macs/pilR_1\n",
      "macs2 callpeak -t 03_bowtie/PilR-FLAG-1.bam -c 03_bowtie/1448A-pHM1-1.bam -g 6e6 -f BAMPE -q 0.05 -B -n pilR_1 --outdir 04_macs/pilR_1\n",
      "mkdir 04_macs/pilR_2\n",
      "macs2 callpeak -t 03_bowtie/PilR-FLAG-2.bam -c 03_bowtie/1448A-pHM1-2.bam -g 6e6 -f BAMPE -q 0.05 -B -n pilR_2 --outdir 04_macs/pilR_2\n",
      "mkdir 04_macs/psrA_1\n",
      "macs2 callpeak -t 03_bowtie/PsrA-FLAG-1.bam -c 03_bowtie/1448A-pHM1-1.bam -g 6e6 -f BAMPE -q 0.05 -B -n psrA_1 --outdir 04_macs/psrA_1\n",
      "mkdir 04_macs/psrA_2\n",
      "macs2 callpeak -t 03_bowtie/PsrA-FLAG-2.bam -c 03_bowtie/1448A-pHM1-2.bam -g 6e6 -f BAMPE -q 0.05 -B -n psrA_2 --outdir 04_macs/psrA_2\n",
      "mkdir 04_macs/rpoN_1\n",
      "macs2 callpeak -t 03_bowtie/RpoN-FLAG-1.bam -c 03_bowtie/1448A-pHM1-1.bam -g 6e6 -f BAMPE -q 0.05 -B -n rpoN_1 --outdir 04_macs/rpoN_1\n",
      "mkdir 04_macs/rpoN_2\n",
      "macs2 callpeak -t 03_bowtie/RpoN-FLAG-2.bam -c 03_bowtie/1448A-pHM1-2.bam -g 6e6 -f BAMPE -q 0.05 -B -n rpoN_2 --outdir 04_macs/rpoN_2\n",
      "mkdir 04_macs/vfr_1\n",
      "macs2 callpeak -t 03_bowtie/Vfr-FLAG-1.bam -c 03_bowtie/1448A-pHM1-1.bam -g 6e6 -f BAMPE -q 0.05 -B -n vfr_1 --outdir 04_macs/vfr_1\n",
      "mkdir 04_macs/vfr_2\n",
      "macs2 callpeak -t 03_bowtie/Vfr-FLAG-2.bam -c 03_bowtie/1448A-pHM1-2.bam -g 6e6 -f BAMPE -q 0.05 -B -n vfr_2 --outdir 04_macs/vfr_2\n",
      "echo '************************************** peak calling finished! **************************************'\n"
     ]
    }
   ],
   "source": [
    "# call peak\n",
    "\n",
    "# pair end \n",
    "with open('04_macs/04_macs.sh','w') as f:\n",
    "    for i in range(0,len(sample_pair)):\n",
    "        print('mkdir 04_macs/%s'%sample_pair[i])\n",
    "        f.write('mkdir 04_macs/%s\\n'%sample_pair[i])\n",
    "        print('macs2 callpeak -t 03_bowtie/%s.bam -c 03_bowtie/%s.bam \\\n",
    "-g 6e6 -f BAMPE -q 0.05 -B -n %s --outdir 04_macs/%s'\n",
    "             %(sample_ip[i],sample_ck[i],sample_pair[i],sample_pair[i]))\n",
    "        f.write('macs2 callpeak -t 03_bowtie/%s.bam -c 03_bowtie/%s.bam \\\n",
    "-g 6e6 -f BAMPE -q 0.05 -B -n %s --outdir 04_macs/%s\\n'\n",
    "             %(sample_ip[i],sample_ck[i],sample_pair[i],sample_pair[i]))\n",
    "        \n",
    "    print('echo \\'************************************** peak calling finished! **************************************\\'')\n",
    "    f.write('echo \\'************************************** peak calling finished! **************************************\\'')"
   ]
  },
  {
   "cell_type": "code",
   "execution_count": 33,
   "metadata": {
    "scrolled": true
   },
   "outputs": [
    {
     "name": "stdout",
     "output_type": "stream",
     "text": [
      "sort -k8,8nr 04_macs/aefR_1/aefR_1_peaks.narrowPeak > 04_macs/aefR_1/aefR_1_peaks.sorted.narrowPeak\n",
      "sort -k8,8nr 04_macs/aefR_2/aefR_2_peaks.narrowPeak > 04_macs/aefR_2/aefR_2_peaks.sorted.narrowPeak\n",
      "sort -k8,8nr 04_macs/algU_1/algU_1_peaks.narrowPeak > 04_macs/algU_1/algU_1_peaks.sorted.narrowPeak\n",
      "sort -k8,8nr 04_macs/algU_2/algU_2_peaks.narrowPeak > 04_macs/algU_2/algU_2_peaks.sorted.narrowPeak\n",
      "sort -k8,8nr 04_macs/cvsR_1/cvsR_1_peaks.narrowPeak > 04_macs/cvsR_1/cvsR_1_peaks.sorted.narrowPeak\n",
      "sort -k8,8nr 04_macs/cvsR_2/cvsR_2_peaks.narrowPeak > 04_macs/cvsR_2/cvsR_2_peaks.sorted.narrowPeak\n",
      "sort -k8,8nr 04_macs/pilR_1/pilR_1_peaks.narrowPeak > 04_macs/pilR_1/pilR_1_peaks.sorted.narrowPeak\n",
      "sort -k8,8nr 04_macs/pilR_2/pilR_2_peaks.narrowPeak > 04_macs/pilR_2/pilR_2_peaks.sorted.narrowPeak\n",
      "sort -k8,8nr 04_macs/psrA_1/psrA_1_peaks.narrowPeak > 04_macs/psrA_1/psrA_1_peaks.sorted.narrowPeak\n",
      "sort -k8,8nr 04_macs/psrA_2/psrA_2_peaks.narrowPeak > 04_macs/psrA_2/psrA_2_peaks.sorted.narrowPeak\n",
      "sort -k8,8nr 04_macs/rpoN_1/rpoN_1_peaks.narrowPeak > 04_macs/rpoN_1/rpoN_1_peaks.sorted.narrowPeak\n",
      "sort -k8,8nr 04_macs/rpoN_2/rpoN_2_peaks.narrowPeak > 04_macs/rpoN_2/rpoN_2_peaks.sorted.narrowPeak\n",
      "sort -k8,8nr 04_macs/vfr_1/vfr_1_peaks.narrowPeak > 04_macs/vfr_1/vfr_1_peaks.sorted.narrowPeak\n",
      "sort -k8,8nr 04_macs/vfr_2/vfr_2_peaks.narrowPeak > 04_macs/vfr_2/vfr_2_peaks.sorted.narrowPeak\n",
      "echo '************************************** peak calling finished! **************************************'\n"
     ]
    }
   ],
   "source": [
    "# sort peak\n",
    "\n",
    "# nohup bash 04_macs/04_sort.sh > 04_macs/04_sort.log 2>&1 &\n",
    "\n",
    "\n",
    "with open('04_macs/04_sort.sh','w') as f:\n",
    "    for i in sample_pair:\n",
    "        print('sort -k8,8nr 04_macs/%s/%s_peaks.narrowPeak > 04_macs/%s/%s_peaks.sorted.narrowPeak'%(i,i,i,i))\n",
    "        f.write('sort -k8,8nr 04_macs/%s/%s_peaks.narrowPeak > 04_macs/%s/%s_peaks.sorted.narrowPeak\\n'%(i,i,i,i))\n",
    "        \n",
    "    print('echo \\'************************************** peak calling finished! **************************************\\'')\n",
    "    f.write('echo \\'************************************** peak calling finished! **************************************\\'')"
   ]
  },
  {
   "cell_type": "code",
   "execution_count": 40,
   "metadata": {
    "scrolled": true
   },
   "outputs": [
    {
     "name": "stdout",
     "output_type": "stream",
     "text": [
      "idr --samples 04_macs/aefR_1/aefR_1_peaks.sorted.narrowPeak 04_macs/aefR_2/aefR_2_peaks.sorted.narrowPeak --input-file-type narrowPeak --rank p.value --output-file 04_idr/aefR --plot --log-output-file 04_idr/aefR.log\n",
      "idr --samples 04_macs/algU_1/algU_1_peaks.sorted.narrowPeak 04_macs/algU_2/algU_2_peaks.sorted.narrowPeak --input-file-type narrowPeak --rank p.value --output-file 04_idr/algU --plot --log-output-file 04_idr/algU.log\n",
      "idr --samples 04_macs/cvsR_1/cvsR_1_peaks.sorted.narrowPeak 04_macs/cvsR_2/cvsR_2_peaks.sorted.narrowPeak --input-file-type narrowPeak --rank p.value --output-file 04_idr/cvsR --plot --log-output-file 04_idr/cvsR.log\n",
      "idr --samples 04_macs/pilR_1/pilR_1_peaks.sorted.narrowPeak 04_macs/pilR_2/pilR_2_peaks.sorted.narrowPeak --input-file-type narrowPeak --rank p.value --output-file 04_idr/pilR --plot --log-output-file 04_idr/pilR.log\n",
      "idr --samples 04_macs/psrA_1/psrA_1_peaks.sorted.narrowPeak 04_macs/psrA_2/psrA_2_peaks.sorted.narrowPeak --input-file-type narrowPeak --rank p.value --output-file 04_idr/psrA --plot --log-output-file 04_idr/psrA.log\n",
      "idr --samples 04_macs/rpoN_1/rpoN_1_peaks.sorted.narrowPeak 04_macs/rpoN_2/rpoN_2_peaks.sorted.narrowPeak --input-file-type narrowPeak --rank p.value --output-file 04_idr/rpoN --plot --log-output-file 04_idr/rpoN.log\n",
      "idr --samples 04_macs/vfr_1/vfr_1_peaks.sorted.narrowPeak 04_macs/vfr_2/vfr_2_peaks.sorted.narrowPeak --input-file-type narrowPeak --rank p.value --output-file 04_idr/vfr --plot --log-output-file 04_idr/vfr.log\n",
      "echo '************************************** idr finished! **************************************'\n"
     ]
    }
   ],
   "source": [
    "# idr\n",
    "\n",
    "with open('04_idr/04_idr.sh','w') as f:\n",
    "    for i in gene:\n",
    "        print('idr --samples 04_macs/%s_1/%s_1_peaks.sorted.narrowPeak 04_macs/%s_2/%s_2_peaks.sorted.narrowPeak \\\n",
    "--input-file-type narrowPeak --rank p.value \\\n",
    "--output-file 04_idr/%s --plot --log-output-file 04_idr/%s.log'%(i,i,i,i,i,i))\n",
    "        f.write('idr --samples 04_macs/%s_1/%s_1_peaks.sorted.narrowPeak 04_macs/%s_2/%s_2_peaks.sorted.narrowPeak \\\n",
    "--input-file-type narrowPeak --rank p.value \\\n",
    "--output-file 04_idr/%s --plot --log-output-file 04_idr/%s.log\\n'%(i,i,i,i,i,i))\n",
    "        \n",
    "    print('echo \\'************************************** idr finished! **************************************\\'')\n",
    "    f.write('echo \\'************************************** idr finished! **************************************\\'')"
   ]
  },
  {
   "cell_type": "code",
   "execution_count": null,
   "metadata": {},
   "outputs": [],
   "source": []
  },
  {
   "cell_type": "code",
   "execution_count": 7,
   "metadata": {},
   "outputs": [
    {
     "name": "stdout",
     "output_type": "stream",
     "text": [
      "mkdir 05_homer/hrpL_1\n",
      "awk '{print $4\"\\t\"$1\"\\t\"$2\"\\t\"$3\"\\t+\"}' 04_idr/hrpL_1.idr.narrowPeak > 05_homer/hrpL_1/hrpL_1_homer.bed\n",
      "findMotifsGenome.pl 05_homer/hrpL_1/hrpL_1_homer.bed ~/data/bowtie2_index/PS_1448A_gb_CP000058.1/CP000058.1.fasta 05_homer/hrpL_1 -len 6 -p 20 -rna -size -50,50\n",
      "mkdir 05_homer/hrpL_2\n",
      "awk '{print $4\"\\t\"$1\"\\t\"$2\"\\t\"$3\"\\t+\"}' 04_idr/hrpL_2.idr.narrowPeak > 05_homer/hrpL_2/hrpL_2_homer.bed\n",
      "findMotifsGenome.pl 05_homer/hrpL_2/hrpL_2_homer.bed ~/data/bowtie2_index/PS_1448A_gb_CP000058.1/CP000058.1.fasta 05_homer/hrpL_2 -len 6 -p 20 -rna -size -50,50\n",
      "mkdir 05_homer/hrpR_1\n",
      "awk '{print $4\"\\t\"$1\"\\t\"$2\"\\t\"$3\"\\t+\"}' 04_idr/hrpR_1.idr.narrowPeak > 05_homer/hrpR_1/hrpR_1_homer.bed\n",
      "findMotifsGenome.pl 05_homer/hrpR_1/hrpR_1_homer.bed ~/data/bowtie2_index/PS_1448A_gb_CP000058.1/CP000058.1.fasta 05_homer/hrpR_1 -len 6 -p 20 -rna -size -50,50\n",
      "mkdir 05_homer/hrpR_2\n",
      "awk '{print $4\"\\t\"$1\"\\t\"$2\"\\t\"$3\"\\t+\"}' 04_idr/hrpR_2.idr.narrowPeak > 05_homer/hrpR_2/hrpR_2_homer.bed\n",
      "findMotifsGenome.pl 05_homer/hrpR_2/hrpR_2_homer.bed ~/data/bowtie2_index/PS_1448A_gb_CP000058.1/CP000058.1.fasta 05_homer/hrpR_2 -len 6 -p 20 -rna -size -50,50\n",
      "mkdir 05_homer/phoP_1\n",
      "awk '{print $4\"\\t\"$1\"\\t\"$2\"\\t\"$3\"\\t+\"}' 04_idr/phoP_1.idr.narrowPeak > 05_homer/phoP_1/phoP_1_homer.bed\n",
      "findMotifsGenome.pl 05_homer/phoP_1/phoP_1_homer.bed ~/data/bowtie2_index/PS_1448A_gb_CP000058.1/CP000058.1.fasta 05_homer/phoP_1 -len 6 -p 20 -rna -size -50,50\n",
      "mkdir 05_homer/phoP_2\n",
      "awk '{print $4\"\\t\"$1\"\\t\"$2\"\\t\"$3\"\\t+\"}' 04_idr/phoP_2.idr.narrowPeak > 05_homer/phoP_2/phoP_2_homer.bed\n",
      "findMotifsGenome.pl 05_homer/phoP_2/phoP_2_homer.bed ~/data/bowtie2_index/PS_1448A_gb_CP000058.1/CP000058.1.fasta 05_homer/phoP_2 -len 6 -p 20 -rna -size -50,50\n",
      "mkdir 05_homer/mgrA_1\n",
      "awk '{print $4\"\\t\"$1\"\\t\"$2\"\\t\"$3\"\\t+\"}' 04_idr/mgrA_1.idr.narrowPeak > 05_homer/mgrA_1/mgrA_1_homer.bed\n",
      "findMotifsGenome.pl 05_homer/mgrA_1/mgrA_1_homer.bed ~/data/bowtie2_index/PS_1448A_gb_CP000058.1/CP000058.1.fasta 05_homer/mgrA_1 -len 6 -p 20 -rna -size -50,50\n",
      "mkdir 05_homer/mgrA_2\n",
      "awk '{print $4\"\\t\"$1\"\\t\"$2\"\\t\"$3\"\\t+\"}' 04_idr/mgrA_2.idr.narrowPeak > 05_homer/mgrA_2/mgrA_2_homer.bed\n",
      "findMotifsGenome.pl 05_homer/mgrA_2/mgrA_2_homer.bed ~/data/bowtie2_index/PS_1448A_gb_CP000058.1/CP000058.1.fasta 05_homer/mgrA_2 -len 6 -p 20 -rna -size -50,50\n",
      "mkdir 05_homer/PSPPH_0857_1\n",
      "awk '{print $4\"\\t\"$1\"\\t\"$2\"\\t\"$3\"\\t+\"}' 04_idr/PSPPH_0857_1.idr.narrowPeak > 05_homer/PSPPH_0857_1/PSPPH_0857_1_homer.bed\n",
      "findMotifsGenome.pl 05_homer/PSPPH_0857_1/PSPPH_0857_1_homer.bed ~/data/bowtie2_index/PS_1448A_gb_CP000058.1/CP000058.1.fasta 05_homer/PSPPH_0857_1 -len 6 -p 20 -rna -size -50,50\n",
      "mkdir 05_homer/PSPPH_0857_2\n",
      "awk '{print $4\"\\t\"$1\"\\t\"$2\"\\t\"$3\"\\t+\"}' 04_idr/PSPPH_0857_2.idr.narrowPeak > 05_homer/PSPPH_0857_2/PSPPH_0857_2_homer.bed\n",
      "findMotifsGenome.pl 05_homer/PSPPH_0857_2/PSPPH_0857_2_homer.bed ~/data/bowtie2_index/PS_1448A_gb_CP000058.1/CP000058.1.fasta 05_homer/PSPPH_0857_2 -len 6 -p 20 -rna -size -50,50\n",
      "mkdir 05_homer/ompR_1\n",
      "awk '{print $4\"\\t\"$1\"\\t\"$2\"\\t\"$3\"\\t+\"}' 04_idr/ompR_1.idr.narrowPeak > 05_homer/ompR_1/ompR_1_homer.bed\n",
      "findMotifsGenome.pl 05_homer/ompR_1/ompR_1_homer.bed ~/data/bowtie2_index/PS_1448A_gb_CP000058.1/CP000058.1.fasta 05_homer/ompR_1 -len 6 -p 20 -rna -size -50,50\n",
      "mkdir 05_homer/ompR_2\n",
      "awk '{print $4\"\\t\"$1\"\\t\"$2\"\\t\"$3\"\\t+\"}' 04_idr/ompR_2.idr.narrowPeak > 05_homer/ompR_2/ompR_2_homer.bed\n",
      "findMotifsGenome.pl 05_homer/ompR_2/ompR_2_homer.bed ~/data/bowtie2_index/PS_1448A_gb_CP000058.1/CP000058.1.fasta 05_homer/ompR_2 -len 6 -p 20 -rna -size -50,50\n",
      "mkdir 05_homer/gacA_1\n",
      "awk '{print $4\"\\t\"$1\"\\t\"$2\"\\t\"$3\"\\t+\"}' 04_idr/gacA_1.idr.narrowPeak > 05_homer/gacA_1/gacA_1_homer.bed\n",
      "findMotifsGenome.pl 05_homer/gacA_1/gacA_1_homer.bed ~/data/bowtie2_index/PS_1448A_gb_CP000058.1/CP000058.1.fasta 05_homer/gacA_1 -len 6 -p 20 -rna -size -50,50\n",
      "mkdir 05_homer/gacA_2\n",
      "awk '{print $4\"\\t\"$1\"\\t\"$2\"\\t\"$3\"\\t+\"}' 04_idr/gacA_2.idr.narrowPeak > 05_homer/gacA_2/gacA_2_homer.bed\n",
      "findMotifsGenome.pl 05_homer/gacA_2/gacA_2_homer.bed ~/data/bowtie2_index/PS_1448A_gb_CP000058.1/CP000058.1.fasta 05_homer/gacA_2 -len 6 -p 20 -rna -size -50,50\n",
      "mkdir 05_homer/rpoN_1\n",
      "awk '{print $4\"\\t\"$1\"\\t\"$2\"\\t\"$3\"\\t+\"}' 04_idr/rpoN_1.idr.narrowPeak > 05_homer/rpoN_1/rpoN_1_homer.bed\n",
      "findMotifsGenome.pl 05_homer/rpoN_1/rpoN_1_homer.bed ~/data/bowtie2_index/PS_1448A_gb_CP000058.1/CP000058.1.fasta 05_homer/rpoN_1 -len 6 -p 20 -rna -size -50,50\n",
      "mkdir 05_homer/rpoN_2\n",
      "awk '{print $4\"\\t\"$1\"\\t\"$2\"\\t\"$3\"\\t+\"}' 04_idr/rpoN_2.idr.narrowPeak > 05_homer/rpoN_2/rpoN_2_homer.bed\n",
      "findMotifsGenome.pl 05_homer/rpoN_2/rpoN_2_homer.bed ~/data/bowtie2_index/PS_1448A_gb_CP000058.1/CP000058.1.fasta 05_homer/rpoN_2 -len 6 -p 20 -rna -size -50,50\n",
      "mkdir 05_homer/pilR_1\n",
      "awk '{print $4\"\\t\"$1\"\\t\"$2\"\\t\"$3\"\\t+\"}' 04_idr/pilR_1.idr.narrowPeak > 05_homer/pilR_1/pilR_1_homer.bed\n",
      "findMotifsGenome.pl 05_homer/pilR_1/pilR_1_homer.bed ~/data/bowtie2_index/PS_1448A_gb_CP000058.1/CP000058.1.fasta 05_homer/pilR_1 -len 6 -p 20 -rna -size -50,50\n",
      "mkdir 05_homer/pilR_2\n",
      "awk '{print $4\"\\t\"$1\"\\t\"$2\"\\t\"$3\"\\t+\"}' 04_idr/pilR_2.idr.narrowPeak > 05_homer/pilR_2/pilR_2_homer.bed\n",
      "findMotifsGenome.pl 05_homer/pilR_2/pilR_2_homer.bed ~/data/bowtie2_index/PS_1448A_gb_CP000058.1/CP000058.1.fasta 05_homer/pilR_2 -len 6 -p 20 -rna -size -50,50\n",
      "mkdir 05_homer/vfr_1\n",
      "awk '{print $4\"\\t\"$1\"\\t\"$2\"\\t\"$3\"\\t+\"}' 04_idr/vfr_1.idr.narrowPeak > 05_homer/vfr_1/vfr_1_homer.bed\n",
      "findMotifsGenome.pl 05_homer/vfr_1/vfr_1_homer.bed ~/data/bowtie2_index/PS_1448A_gb_CP000058.1/CP000058.1.fasta 05_homer/vfr_1 -len 6 -p 20 -rna -size -50,50\n",
      "mkdir 05_homer/vfr_2\n",
      "awk '{print $4\"\\t\"$1\"\\t\"$2\"\\t\"$3\"\\t+\"}' 04_idr/vfr_2.idr.narrowPeak > 05_homer/vfr_2/vfr_2_homer.bed\n",
      "findMotifsGenome.pl 05_homer/vfr_2/vfr_2_homer.bed ~/data/bowtie2_index/PS_1448A_gb_CP000058.1/CP000058.1.fasta 05_homer/vfr_2 -len 6 -p 20 -rna -size -50,50\n",
      "mkdir 05_homer/algU_1\n",
      "awk '{print $4\"\\t\"$1\"\\t\"$2\"\\t\"$3\"\\t+\"}' 04_idr/algU_1.idr.narrowPeak > 05_homer/algU_1/algU_1_homer.bed\n",
      "findMotifsGenome.pl 05_homer/algU_1/algU_1_homer.bed ~/data/bowtie2_index/PS_1448A_gb_CP000058.1/CP000058.1.fasta 05_homer/algU_1 -len 6 -p 20 -rna -size -50,50\n",
      "mkdir 05_homer/algU_2\n",
      "awk '{print $4\"\\t\"$1\"\\t\"$2\"\\t\"$3\"\\t+\"}' 04_idr/algU_2.idr.narrowPeak > 05_homer/algU_2/algU_2_homer.bed\n",
      "findMotifsGenome.pl 05_homer/algU_2/algU_2_homer.bed ~/data/bowtie2_index/PS_1448A_gb_CP000058.1/CP000058.1.fasta 05_homer/algU_2 -len 6 -p 20 -rna -size -50,50\n",
      "mkdir 05_homer/cvsR_1\n",
      "awk '{print $4\"\\t\"$1\"\\t\"$2\"\\t\"$3\"\\t+\"}' 04_idr/cvsR_1.idr.narrowPeak > 05_homer/cvsR_1/cvsR_1_homer.bed\n",
      "findMotifsGenome.pl 05_homer/cvsR_1/cvsR_1_homer.bed ~/data/bowtie2_index/PS_1448A_gb_CP000058.1/CP000058.1.fasta 05_homer/cvsR_1 -len 6 -p 20 -rna -size -50,50\n",
      "mkdir 05_homer/cvsR_2\n",
      "awk '{print $4\"\\t\"$1\"\\t\"$2\"\\t\"$3\"\\t+\"}' 04_idr/cvsR_2.idr.narrowPeak > 05_homer/cvsR_2/cvsR_2_homer.bed\n",
      "findMotifsGenome.pl 05_homer/cvsR_2/cvsR_2_homer.bed ~/data/bowtie2_index/PS_1448A_gb_CP000058.1/CP000058.1.fasta 05_homer/cvsR_2 -len 6 -p 20 -rna -size -50,50\n",
      "mkdir 05_homer/psrA_1\n",
      "awk '{print $4\"\\t\"$1\"\\t\"$2\"\\t\"$3\"\\t+\"}' 04_idr/psrA_1.idr.narrowPeak > 05_homer/psrA_1/psrA_1_homer.bed\n",
      "findMotifsGenome.pl 05_homer/psrA_1/psrA_1_homer.bed ~/data/bowtie2_index/PS_1448A_gb_CP000058.1/CP000058.1.fasta 05_homer/psrA_1 -len 6 -p 20 -rna -size -50,50\n",
      "mkdir 05_homer/psrA_2\n",
      "awk '{print $4\"\\t\"$1\"\\t\"$2\"\\t\"$3\"\\t+\"}' 04_idr/psrA_2.idr.narrowPeak > 05_homer/psrA_2/psrA_2_homer.bed\n",
      "findMotifsGenome.pl 05_homer/psrA_2/psrA_2_homer.bed ~/data/bowtie2_index/PS_1448A_gb_CP000058.1/CP000058.1.fasta 05_homer/psrA_2 -len 6 -p 20 -rna -size -50,50\n",
      "mkdir 05_homer/aefR_1\n",
      "awk '{print $4\"\\t\"$1\"\\t\"$2\"\\t\"$3\"\\t+\"}' 04_idr/aefR_1.idr.narrowPeak > 05_homer/aefR_1/aefR_1_homer.bed\n",
      "findMotifsGenome.pl 05_homer/aefR_1/aefR_1_homer.bed ~/data/bowtie2_index/PS_1448A_gb_CP000058.1/CP000058.1.fasta 05_homer/aefR_1 -len 6 -p 20 -rna -size -50,50\n",
      "mkdir 05_homer/aefR_2\n",
      "awk '{print $4\"\\t\"$1\"\\t\"$2\"\\t\"$3\"\\t+\"}' 04_idr/aefR_2.idr.narrowPeak > 05_homer/aefR_2/aefR_2_homer.bed\n",
      "findMotifsGenome.pl 05_homer/aefR_2/aefR_2_homer.bed ~/data/bowtie2_index/PS_1448A_gb_CP000058.1/CP000058.1.fasta 05_homer/aefR_2 -len 6 -p 20 -rna -size -50,50\n",
      "mkdir 05_homer/gltR_1\n",
      "awk '{print $4\"\\t\"$1\"\\t\"$2\"\\t\"$3\"\\t+\"}' 04_idr/gltR_1.idr.narrowPeak > 05_homer/gltR_1/gltR_1_homer.bed\n",
      "findMotifsGenome.pl 05_homer/gltR_1/gltR_1_homer.bed ~/data/bowtie2_index/PS_1448A_gb_CP000058.1/CP000058.1.fasta 05_homer/gltR_1 -len 6 -p 20 -rna -size -50,50\n",
      "mkdir 05_homer/gltR_2\n",
      "awk '{print $4\"\\t\"$1\"\\t\"$2\"\\t\"$3\"\\t+\"}' 04_idr/gltR_2.idr.narrowPeak > 05_homer/gltR_2/gltR_2_homer.bed\n",
      "findMotifsGenome.pl 05_homer/gltR_2/gltR_2_homer.bed ~/data/bowtie2_index/PS_1448A_gb_CP000058.1/CP000058.1.fasta 05_homer/gltR_2 -len 6 -p 20 -rna -size -50,50\n",
      "echo '************************************** motif searching finished! **************************************'\n"
     ]
    }
   ],
   "source": [
    "# find motif\n",
    "    \n",
    "for i in range(0,len(sample_pair)):\n",
    "    print('mkdir 05_homer/%s'%sample_pair[i])\n",
    "    print('awk \\'{print $4\\\"\\\\t\\\"$1\\\"\\\\t\\\"$2\\\"\\\\t\\\"$3\\\"\\\\t+\\\"}\\' 04_idr/%s.idr.narrowPeak > 05_homer/%s/%s_homer.bed'\n",
    "         %(sample_pair[i],sample_pair[i],sample_pair[i]))\n",
    "    print('findMotifsGenome.pl 05_homer/%s/%s_homer.bed ~/data/bowtie2_index/PS_1448A_gb_CP000058.1/CP000058.1.fasta 05_homer/%s -len 6 -p %s -rna -size -50,50'\n",
    "         %(sample_pair[i],sample_pair[i],sample_pair[i],thread))\n",
    "    \n",
    "print('echo \\'************************************** motif searching finished! **************************************\\'')"
   ]
  },
  {
   "cell_type": "code",
   "execution_count": null,
   "metadata": {},
   "outputs": [],
   "source": []
  }
 ],
 "metadata": {
  "kernelspec": {
   "display_name": "Python 3",
   "language": "python",
   "name": "python3"
  },
  "language_info": {
   "codemirror_mode": {
    "name": "ipython",
    "version": 3
   },
   "file_extension": ".py",
   "mimetype": "text/x-python",
   "name": "python",
   "nbconvert_exporter": "python",
   "pygments_lexer": "ipython3",
   "version": "3.6.10"
  }
 },
 "nbformat": 4,
 "nbformat_minor": 2
}
